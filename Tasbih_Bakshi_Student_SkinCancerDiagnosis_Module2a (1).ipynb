{
  "nbformat": 4,
  "nbformat_minor": 0,
  "metadata": {
    "accelerator": "GPU",
    "colab": {
      "provenance": []
    },
    "kernelspec": {
      "display_name": "Python 3",
      "name": "python3"
    },
    "widgets": {
      "application/vnd.jupyter.widget-state+json": {
        "d9f319dcfada4a969d32d3fca94e7e8f": {
          "model_module": "@jupyter-widgets/controls",
          "model_name": "HBoxModel",
          "model_module_version": "1.5.0",
          "state": {
            "_dom_classes": [],
            "_model_module": "@jupyter-widgets/controls",
            "_model_module_version": "1.5.0",
            "_model_name": "HBoxModel",
            "_view_count": null,
            "_view_module": "@jupyter-widgets/controls",
            "_view_module_version": "1.5.0",
            "_view_name": "HBoxView",
            "box_style": "",
            "children": [
              "IPY_MODEL_671141e62d6d4513b47606650ae9bee8",
              "IPY_MODEL_280845113786453e889b41f5ec54e3a7",
              "IPY_MODEL_3d64fd6ea5c245a28266d8effe9bbb1d"
            ],
            "layout": "IPY_MODEL_f68225714e3045ee98aeb5e7c4367434"
          }
        },
        "671141e62d6d4513b47606650ae9bee8": {
          "model_module": "@jupyter-widgets/controls",
          "model_name": "HTMLModel",
          "model_module_version": "1.5.0",
          "state": {
            "_dom_classes": [],
            "_model_module": "@jupyter-widgets/controls",
            "_model_module_version": "1.5.0",
            "_model_name": "HTMLModel",
            "_view_count": null,
            "_view_module": "@jupyter-widgets/controls",
            "_view_module_version": "1.5.0",
            "_view_name": "HTMLView",
            "description": "",
            "description_tooltip": null,
            "layout": "IPY_MODEL_735b34ec88d5403a8025ae909e2c6e5c",
            "placeholder": "​",
            "style": "IPY_MODEL_391fcf4146e04b04908d3e809211415d",
            "value": "100%"
          }
        },
        "280845113786453e889b41f5ec54e3a7": {
          "model_module": "@jupyter-widgets/controls",
          "model_name": "FloatProgressModel",
          "model_module_version": "1.5.0",
          "state": {
            "_dom_classes": [],
            "_model_module": "@jupyter-widgets/controls",
            "_model_module_version": "1.5.0",
            "_model_name": "FloatProgressModel",
            "_view_count": null,
            "_view_module": "@jupyter-widgets/controls",
            "_view_module_version": "1.5.0",
            "_view_name": "ProgressView",
            "bar_style": "success",
            "description": "",
            "description_tooltip": null,
            "layout": "IPY_MODEL_4e7c8fff1e7743a6bf6d023952b3ebdd",
            "max": 580,
            "min": 0,
            "orientation": "horizontal",
            "style": "IPY_MODEL_564d7d8f98f34bb195572c182b063184",
            "value": 580
          }
        },
        "3d64fd6ea5c245a28266d8effe9bbb1d": {
          "model_module": "@jupyter-widgets/controls",
          "model_name": "HTMLModel",
          "model_module_version": "1.5.0",
          "state": {
            "_dom_classes": [],
            "_model_module": "@jupyter-widgets/controls",
            "_model_module_version": "1.5.0",
            "_model_name": "HTMLModel",
            "_view_count": null,
            "_view_module": "@jupyter-widgets/controls",
            "_view_module_version": "1.5.0",
            "_view_name": "HTMLView",
            "description": "",
            "description_tooltip": null,
            "layout": "IPY_MODEL_1eb26c7c968f4a0382afce8dbd3550e5",
            "placeholder": "​",
            "style": "IPY_MODEL_19143aa8749f4be18d40d5a4b07d9300",
            "value": " 580/580 [00:00&lt;00:00, 5965.68it/s]"
          }
        },
        "f68225714e3045ee98aeb5e7c4367434": {
          "model_module": "@jupyter-widgets/base",
          "model_name": "LayoutModel",
          "model_module_version": "1.2.0",
          "state": {
            "_model_module": "@jupyter-widgets/base",
            "_model_module_version": "1.2.0",
            "_model_name": "LayoutModel",
            "_view_count": null,
            "_view_module": "@jupyter-widgets/base",
            "_view_module_version": "1.2.0",
            "_view_name": "LayoutView",
            "align_content": null,
            "align_items": null,
            "align_self": null,
            "border": null,
            "bottom": null,
            "display": null,
            "flex": null,
            "flex_flow": null,
            "grid_area": null,
            "grid_auto_columns": null,
            "grid_auto_flow": null,
            "grid_auto_rows": null,
            "grid_column": null,
            "grid_gap": null,
            "grid_row": null,
            "grid_template_areas": null,
            "grid_template_columns": null,
            "grid_template_rows": null,
            "height": null,
            "justify_content": null,
            "justify_items": null,
            "left": null,
            "margin": null,
            "max_height": null,
            "max_width": null,
            "min_height": null,
            "min_width": null,
            "object_fit": null,
            "object_position": null,
            "order": null,
            "overflow": null,
            "overflow_x": null,
            "overflow_y": null,
            "padding": null,
            "right": null,
            "top": null,
            "visibility": null,
            "width": null
          }
        },
        "735b34ec88d5403a8025ae909e2c6e5c": {
          "model_module": "@jupyter-widgets/base",
          "model_name": "LayoutModel",
          "model_module_version": "1.2.0",
          "state": {
            "_model_module": "@jupyter-widgets/base",
            "_model_module_version": "1.2.0",
            "_model_name": "LayoutModel",
            "_view_count": null,
            "_view_module": "@jupyter-widgets/base",
            "_view_module_version": "1.2.0",
            "_view_name": "LayoutView",
            "align_content": null,
            "align_items": null,
            "align_self": null,
            "border": null,
            "bottom": null,
            "display": null,
            "flex": null,
            "flex_flow": null,
            "grid_area": null,
            "grid_auto_columns": null,
            "grid_auto_flow": null,
            "grid_auto_rows": null,
            "grid_column": null,
            "grid_gap": null,
            "grid_row": null,
            "grid_template_areas": null,
            "grid_template_columns": null,
            "grid_template_rows": null,
            "height": null,
            "justify_content": null,
            "justify_items": null,
            "left": null,
            "margin": null,
            "max_height": null,
            "max_width": null,
            "min_height": null,
            "min_width": null,
            "object_fit": null,
            "object_position": null,
            "order": null,
            "overflow": null,
            "overflow_x": null,
            "overflow_y": null,
            "padding": null,
            "right": null,
            "top": null,
            "visibility": null,
            "width": null
          }
        },
        "391fcf4146e04b04908d3e809211415d": {
          "model_module": "@jupyter-widgets/controls",
          "model_name": "DescriptionStyleModel",
          "model_module_version": "1.5.0",
          "state": {
            "_model_module": "@jupyter-widgets/controls",
            "_model_module_version": "1.5.0",
            "_model_name": "DescriptionStyleModel",
            "_view_count": null,
            "_view_module": "@jupyter-widgets/base",
            "_view_module_version": "1.2.0",
            "_view_name": "StyleView",
            "description_width": ""
          }
        },
        "4e7c8fff1e7743a6bf6d023952b3ebdd": {
          "model_module": "@jupyter-widgets/base",
          "model_name": "LayoutModel",
          "model_module_version": "1.2.0",
          "state": {
            "_model_module": "@jupyter-widgets/base",
            "_model_module_version": "1.2.0",
            "_model_name": "LayoutModel",
            "_view_count": null,
            "_view_module": "@jupyter-widgets/base",
            "_view_module_version": "1.2.0",
            "_view_name": "LayoutView",
            "align_content": null,
            "align_items": null,
            "align_self": null,
            "border": null,
            "bottom": null,
            "display": null,
            "flex": null,
            "flex_flow": null,
            "grid_area": null,
            "grid_auto_columns": null,
            "grid_auto_flow": null,
            "grid_auto_rows": null,
            "grid_column": null,
            "grid_gap": null,
            "grid_row": null,
            "grid_template_areas": null,
            "grid_template_columns": null,
            "grid_template_rows": null,
            "height": null,
            "justify_content": null,
            "justify_items": null,
            "left": null,
            "margin": null,
            "max_height": null,
            "max_width": null,
            "min_height": null,
            "min_width": null,
            "object_fit": null,
            "object_position": null,
            "order": null,
            "overflow": null,
            "overflow_x": null,
            "overflow_y": null,
            "padding": null,
            "right": null,
            "top": null,
            "visibility": null,
            "width": null
          }
        },
        "564d7d8f98f34bb195572c182b063184": {
          "model_module": "@jupyter-widgets/controls",
          "model_name": "ProgressStyleModel",
          "model_module_version": "1.5.0",
          "state": {
            "_model_module": "@jupyter-widgets/controls",
            "_model_module_version": "1.5.0",
            "_model_name": "ProgressStyleModel",
            "_view_count": null,
            "_view_module": "@jupyter-widgets/base",
            "_view_module_version": "1.2.0",
            "_view_name": "StyleView",
            "bar_color": null,
            "description_width": ""
          }
        },
        "1eb26c7c968f4a0382afce8dbd3550e5": {
          "model_module": "@jupyter-widgets/base",
          "model_name": "LayoutModel",
          "model_module_version": "1.2.0",
          "state": {
            "_model_module": "@jupyter-widgets/base",
            "_model_module_version": "1.2.0",
            "_model_name": "LayoutModel",
            "_view_count": null,
            "_view_module": "@jupyter-widgets/base",
            "_view_module_version": "1.2.0",
            "_view_name": "LayoutView",
            "align_content": null,
            "align_items": null,
            "align_self": null,
            "border": null,
            "bottom": null,
            "display": null,
            "flex": null,
            "flex_flow": null,
            "grid_area": null,
            "grid_auto_columns": null,
            "grid_auto_flow": null,
            "grid_auto_rows": null,
            "grid_column": null,
            "grid_gap": null,
            "grid_row": null,
            "grid_template_areas": null,
            "grid_template_columns": null,
            "grid_template_rows": null,
            "height": null,
            "justify_content": null,
            "justify_items": null,
            "left": null,
            "margin": null,
            "max_height": null,
            "max_width": null,
            "min_height": null,
            "min_width": null,
            "object_fit": null,
            "object_position": null,
            "order": null,
            "overflow": null,
            "overflow_x": null,
            "overflow_y": null,
            "padding": null,
            "right": null,
            "top": null,
            "visibility": null,
            "width": null
          }
        },
        "19143aa8749f4be18d40d5a4b07d9300": {
          "model_module": "@jupyter-widgets/controls",
          "model_name": "DescriptionStyleModel",
          "model_module_version": "1.5.0",
          "state": {
            "_model_module": "@jupyter-widgets/controls",
            "_model_module_version": "1.5.0",
            "_model_name": "DescriptionStyleModel",
            "_view_count": null,
            "_view_module": "@jupyter-widgets/base",
            "_view_module_version": "1.2.0",
            "_view_name": "StyleView",
            "description_width": ""
          }
        }
      }
    }
  },
  "cells": [
    {
      "cell_type": "markdown",
      "metadata": {
        "id": "8qhF7Oi9c-v6"
      },
      "source": [
        " # Module 2a"
      ]
    },
    {
      "cell_type": "markdown",
      "metadata": {
        "id": "JouKR3pTBF_L"
      },
      "source": [
        "# *Online Dermatologists:* 📱 🌐 Diagnosing Skin Cancer through a Web Application "
      ]
    },
    {
      "cell_type": "markdown",
      "metadata": {
        "id": "nPnF7JnsD6II"
      },
      "source": [
        "In this project, we will be be diagnosing skin lesion images for signs of skin cancer. To perform this task, we'll be working with an array of machine learning methods and models.\n",
        "\n",
        "We're hoping that our model might be useful to people who don't have easy access to medical professionals. For that, it'll need to be both highly accurate and easily accessible! Yesterday's simple models didn't perform well enough for this job.\n",
        "\n",
        "In this notebook we'll be:\n",
        "*   Developing more complex ML models using Convolutional Neural Networks\n",
        "*   Deploying our ML models to a web app"
      ]
    },
    {
      "cell_type": "markdown",
      "metadata": {
        "id": "-ObbA3WmI798"
      },
      "source": [
        "# Set up our Environment"
      ]
    },
    {
      "cell_type": "code",
      "metadata": {
        "id": "ih8pc-WDIxbx",
        "colab": {
          "base_uri": "https://localhost:8080/"
        },
        "outputId": "8b917101-4aeb-4d35-a2f3-7fb52801e4dc"
      },
      "source": [
        "#@title Run this to download data and prepare our environment! { display-mode: \"form\" }\n",
        "print(\"Installing packages...\")\n",
        "!pip install hypopt tensorflowjs > /dev/null\n",
        "print(\"Downloading files...\")\n",
        "!wget https://www.dropbox.com/s/fedqcdt4o0m2oxp/X.npy &> /dev/null\n",
        "!wget https://www.dropbox.com/s/h7xh92w1w7px30a/X_g.npy &> /dev/null\n",
        "!wget https://www.dropbox.com/s/grn9brfvzx74c8a/y.npy &> /dev/null\n",
        "print(\"Importing stuff...\")\n",
        "import os\n",
        "os.makedirs(\"static/js\", exist_ok=True)\n",
        "!wget -O static/js/skin_cancer_diagnosis_script.js 'https://storage.googleapis.com/inspirit-ai-data-bucket-1/Data/AI%20Scholars/Sessions%206%20-%2010%20(Projects)/Project%20-%20(Healthcare%20B)%20Skin%20Cancer%20Diagnosis/skin_cancer_diagnosis_script.js' &> /dev/null\n",
        "output = 'static/js/skin_cancer_diagnosis_script.js'\n",
        "\n",
        "from google.colab.output import eval_js\n",
        "\n",
        "import time\n",
        "start_time = time.time()\n",
        "\n",
        "import tensorflow as tf\n",
        "from tensorflow.keras.preprocessing.image import ImageDataGenerator\n",
        "from tqdm.notebook import tqdm\n",
        "\n",
        "import keras\n",
        "from keras import backend as K\n",
        "from tensorflow.keras.layers import *\n",
        "from keras.models import Sequential\n",
        "from keras.layers import Dense, Conv2D\n",
        "from keras.layers import Activation, MaxPooling2D, Dropout, Flatten, Reshape\n",
        "import tensorflow.keras.optimizers as optimizers\n",
        "from keras.wrappers.scikit_learn import KerasClassifier\n",
        "\n",
        "import matplotlib.pyplot as plt\n",
        "import matplotlib\n",
        "import seaborn as sns\n",
        "import os\n",
        "import random\n",
        "from PIL import Image\n",
        "import gdown\n",
        "\n",
        "import argparse\n",
        "import numpy as np\n",
        "from keras.layers import Conv2D, Input, BatchNormalization, LeakyReLU, ZeroPadding2D, UpSampling2D\n",
        "from keras.layers.merge import add, concatenate\n",
        "from keras.models import Model\n",
        "import struct\n",
        "from google.colab.patches import cv2_imshow\n",
        "from copy import deepcopy\n",
        "import pandas as pd\n",
        "\n",
        "from sklearn.model_selection import train_test_split\n",
        "from sklearn.linear_model import LogisticRegression\n",
        "from sklearn.neighbors import KNeighborsClassifier\n",
        "from sklearn import tree\n",
        "from sklearn.metrics import confusion_matrix, classification_report\n",
        "from sklearn.metrics import precision_recall_curve\n",
        "from sklearn.metrics import roc_auc_score\n",
        "from sklearn.base import BaseEstimator\n",
        "\n",
        "from sklearn.neural_network import MLPClassifier\n",
        "from sklearn.neighbors import KNeighborsClassifier\n",
        "from sklearn.svm import SVC\n",
        "from sklearn.gaussian_process import GaussianProcessClassifier\n",
        "from sklearn.gaussian_process.kernels import RBF\n",
        "from sklearn.tree import DecisionTreeClassifier\n",
        "from sklearn.ensemble import RandomForestClassifier, AdaBoostClassifier\n",
        "from sklearn.naive_bayes import GaussianNB\n",
        "from sklearn.discriminant_analysis import QuadraticDiscriminantAnalysis\n",
        "\n",
        "from sklearn.metrics import make_scorer\n",
        "from sklearn.metrics import accuracy_score\n",
        "from keras.applications.mobilenet import MobileNet\n",
        "\n",
        "from hypopt import GridSearch\n",
        "\n",
        "from sklearn.decomposition import PCA\n",
        "from sklearn.manifold import TSNE\n",
        "\n",
        "from sklearn.cluster import KMeans\n",
        "from sklearn.cluster import AgglomerativeClustering\n",
        "\n",
        "import cv2\n",
        "\n",
        "\n",
        "import tensorflowjs as tfjs\n",
        "\n",
        "from google.colab import files\n",
        "\n",
        "import requests, io, zipfile\n",
        "import os\n",
        "\n",
        "\n",
        "\n",
        "import os.path\n",
        "from os import path\n",
        "\n",
        "\n",
        "\n",
        "\n",
        "print(\"Done!\")"
      ],
      "execution_count": null,
      "outputs": [
        {
          "output_type": "stream",
          "name": "stdout",
          "text": [
            "Installing packages...\n",
            "\u001b[31mERROR: pip's dependency resolver does not currently take into account all the packages that are installed. This behaviour is the source of the following dependency conflicts.\n",
            "datascience 0.10.6 requires folium==0.2.1, but you have folium 0.8.3 which is incompatible.\u001b[0m\n",
            "Downloading files...\n",
            "Importing stuff...\n",
            "Done!\n"
          ]
        }
      ]
    },
    {
      "cell_type": "code",
      "metadata": {
        "id": "ITfh4GjlttRH"
      },
      "source": [
        "IMG_WIDTH = 100\n",
        "IMG_HEIGHT = 75"
      ],
      "execution_count": null,
      "outputs": []
    },
    {
      "cell_type": "markdown",
      "metadata": {
        "id": "eMVUe5bs_2uX"
      },
      "source": [
        "Let's load in our data from last time!"
      ]
    },
    {
      "cell_type": "code",
      "metadata": {
        "id": "Kpq4DXFN6cRf"
      },
      "source": [
        "X = np.load(\"X.npy\")\n",
        "X_g = np.load(\"X_g.npy\")\n",
        "y = np.load(\"y.npy\")"
      ],
      "execution_count": null,
      "outputs": []
    },
    {
      "cell_type": "code",
      "metadata": {
        "id": "UC4VupwgyqpN",
        "colab": {
          "base_uri": "https://localhost:8080/",
          "height": 49,
          "referenced_widgets": [
            "d9f319dcfada4a969d32d3fca94e7e8f",
            "671141e62d6d4513b47606650ae9bee8",
            "280845113786453e889b41f5ec54e3a7",
            "3d64fd6ea5c245a28266d8effe9bbb1d",
            "f68225714e3045ee98aeb5e7c4367434",
            "735b34ec88d5403a8025ae909e2c6e5c",
            "391fcf4146e04b04908d3e809211415d",
            "4e7c8fff1e7743a6bf6d023952b3ebdd",
            "564d7d8f98f34bb195572c182b063184",
            "1eb26c7c968f4a0382afce8dbd3550e5",
            "19143aa8749f4be18d40d5a4b07d9300"
          ]
        },
        "outputId": "1938e43a-cb4e-4e05-bb06-95c367212e43"
      },
      "source": [
        "#@title Run this to Perform Data Augmentation { display-mode: \"form\" }\n",
        "X_train, X_test, y_train, y_test = train_test_split(X, y, test_size=0.4, random_state=101)\n",
        "X_g_train, X_g_test, y_train, y_test = train_test_split(X_g, y, test_size=0.4, random_state=101)\n",
        "\n",
        "X_augmented = []\n",
        "X_g_augmented = []\n",
        "\n",
        "y_augmented = []\n",
        "\n",
        "for i in tqdm(range(len(X_train))):\n",
        "  transform = random.randint(0,1)\n",
        "  if (transform == 0):\n",
        "    # Flip the image across the y-axis\n",
        "    X_augmented.append(cv2.flip(X_train[i],1))\n",
        "    X_g_augmented.append(cv2.flip(X_g_train[i],1))\n",
        "    y_augmented.append(y_train[i])\n",
        "  else:\n",
        "    # Zoom 33% into the image\n",
        "    zoom = 0.33\n",
        "\n",
        "    centerX,centerY=int(IMG_HEIGHT/2),int(IMG_WIDTH/2)\n",
        "    radiusX,radiusY= int((1-zoom)*IMG_HEIGHT*2),int((1-zoom)*IMG_WIDTH*2)\n",
        "\n",
        "    minX,maxX=centerX-radiusX,centerX+radiusX\n",
        "    minY,maxY=centerY-radiusY,centerY+radiusY\n",
        "\n",
        "    cropped = (X_train[i])[minX:maxX, minY:maxY]\n",
        "    new_img = cv2.resize(cropped, (IMG_WIDTH, IMG_HEIGHT))\n",
        "    X_augmented.append(new_img)\n",
        "\n",
        "    cropped = (X_g_train[i])[minX:maxX, minY:maxY]\n",
        "    new_img = cv2.resize(cropped, (IMG_WIDTH, IMG_HEIGHT))\n",
        "    X_g_augmented.append(new_img)\n",
        "\n",
        "    y_augmented.append(y_train[i])\n",
        "\n",
        "X_augmented = np.array(X_augmented)\n",
        "X_g_augmented = np.array(X_g_augmented)\n",
        "\n",
        "y_augmented = np.array(y_augmented)\n",
        "\n",
        "X_train = np.vstack((X_train,X_augmented))\n",
        "X_g_train = np.vstack((X_g_train,X_g_augmented))\n",
        "\n",
        "y_train = np.append(y_train,y_augmented)"
      ],
      "execution_count": null,
      "outputs": [
        {
          "output_type": "display_data",
          "data": {
            "text/plain": [
              "  0%|          | 0/580 [00:00<?, ?it/s]"
            ],
            "application/vnd.jupyter.widget-view+json": {
              "version_major": 2,
              "version_minor": 0,
              "model_id": "d9f319dcfada4a969d32d3fca94e7e8f"
            }
          },
          "metadata": {}
        }
      ]
    },
    {
      "cell_type": "markdown",
      "metadata": {
        "id": "dwVcrhcDDE7h"
      },
      "source": [
        "Let's view the shape of our training variables after data augmentation:"
      ]
    },
    {
      "cell_type": "code",
      "metadata": {
        "id": "A2yCz4Cqc9U5",
        "colab": {
          "base_uri": "https://localhost:8080/"
        },
        "outputId": "62cf65af-e58d-4714-9d1c-6ed95def0111"
      },
      "source": [
        "#Your Code Here\n",
        "X_augmented.shape\n",
        "X_train.shape\n",
        "X_g_train.shape\n",
        "X_test.shape\n",
        "\n"
      ],
      "execution_count": null,
      "outputs": [
        {
          "output_type": "execute_result",
          "data": {
            "text/plain": [
              "(387, 75, 100, 3)"
            ]
          },
          "metadata": {},
          "execution_count": 5
        }
      ]
    },
    {
      "cell_type": "markdown",
      "metadata": {
        "id": "pZThMze80XRW"
      },
      "source": [
        "# Creating Machine Learning Models"
      ]
    },
    {
      "cell_type": "markdown",
      "metadata": {
        "id": "G8yRJmUHkqWw"
      },
      "source": [
        "**Now**, let's explore some alternative classification options."
      ]
    },
    {
      "cell_type": "markdown",
      "metadata": {
        "id": "5WAr9_wa1AXX"
      },
      "source": [
        "Let's take a look at Convolutional Neural Networks. These machine learning models are tailor made to work with images through the use of *Convolutional Layers*. \n",
        "\n",
        "CNNs contain several kinds of layers; some of the most important are the *Convolutional Layers*, *Pooling Layers*, and *Fully Connected Layers*. \n",
        "\n",
        "The Convolutional Layer is used to extract features from the image through the use of a sliding window, known as a kernel.\n"
      ]
    },
    {
      "cell_type": "markdown",
      "metadata": {
        "id": "iE55_4A6OgiP"
      },
      "source": [
        "![alt text](https://stanford.edu/~shervine/teaching/cs-230/illustrations/convolution-layer-a.png?1c517e00cb8d709baf32fc3d39ebae67)"
      ]
    },
    {
      "cell_type": "markdown",
      "metadata": {
        "id": "BJJzjq1VOkCe"
      },
      "source": [
        "\n",
        "The Pooling Layer reduces the dimensions of the image, and extracts the most important features. This layer is very useful in minimizing overfitting, as a lot of the features that are too specific to the training data will be discarded in this step."
      ]
    },
    {
      "cell_type": "markdown",
      "metadata": {
        "id": "JATieE3K1A6X"
      },
      "source": [
        "![alt text](https://miro.medium.com/max/875/1*KQIEqhxzICU7thjaQBfPBQ.png)"
      ]
    },
    {
      "cell_type": "markdown",
      "metadata": {
        "id": "EkZ5aeG0OT9O"
      },
      "source": [
        "Finally, after multiple iterations of Convolutional and Pooling Layers, the image is converted to a classification probability in the fully connected layer. The fully connected layer is architecturally similar to a traditional neural network. The input to this component is our flattened image (after all the transformations from the Convolutional and Pooling layers are applied), and the outputs are the predictions."
      ]
    },
    {
      "cell_type": "markdown",
      "metadata": {
        "id": "U5Mqv1hwOwYu"
      },
      "source": [
        "\n",
        "![alt text](https://sds-platform-private.s3-us-east-2.amazonaws.com/uploads/74_blog_image_1.png)\n"
      ]
    },
    {
      "cell_type": "code",
      "metadata": {
        "id": "Swoyff2uRp82"
      },
      "source": [
        "# Your Response Here\n",
        "\n"
      ],
      "execution_count": null,
      "outputs": []
    },
    {
      "cell_type": "markdown",
      "metadata": {
        "id": "P15J_c6gxnxI"
      },
      "source": [
        "We'll use the the library Keras to create the models for our skin lesion classification. Let's start off by creating our own CNN model (This is the same model we used in the earlier Intro to CNNs notebook). We can work with our color images with the CNNs."
      ]
    },
    {
      "cell_type": "markdown",
      "metadata": {
        "id": "Ysnigm4YO-Ua"
      },
      "source": [
        "Take a look at the CNN's definition below.\n",
        "\n",
        "**Question**: How is the model organized? Could you draw a diagram of its structure?"
      ]
    },
    {
      "cell_type": "code",
      "metadata": {
        "id": "TB0G7k4jO7Tm"
      },
      "source": [
        "# Your Response Here\n",
        "# by 3 layers, input, fully connected and output\n",
        "#first is 3, second is 4 third is 2\n"
      ],
      "execution_count": null,
      "outputs": []
    },
    {
      "cell_type": "code",
      "metadata": {
        "id": "jfVye7oWuNMM"
      },
      "source": [
        "def CNNClassifier(epochs=20, batch_size=10, layers=5, dropout=0.5, activation='relu'):\n",
        "  def set_params():\n",
        "    i = 1  \n",
        "  def create_model():\n",
        "    model = Sequential()\n",
        "    \n",
        "    for i in range(layers):\n",
        "      model.add(Conv2D(64, (3, 3), padding='same'))\n",
        "      model.add(Activation(activation))\n",
        "    \n",
        "    model.add(Conv2D(64, (3, 3)))\n",
        "    model.add(Activation(activation))\n",
        "    model.add(MaxPooling2D(pool_size=(2, 2)))\n",
        "    model.add(Dropout(dropout / 2.0))\n",
        "\n",
        "    model.add(Conv2D(128, (3, 3), padding='same'))\n",
        "    model.add(Activation(activation))\n",
        "    model.add(Conv2D(128, (3, 3)))\n",
        "    model.add(Activation(activation))\n",
        "    model.add(MaxPooling2D(pool_size=(2, 2)))\n",
        "    model.add(Dropout(dropout / 2.0))\n",
        "\n",
        "    model.add(Flatten())\n",
        "    model.add(Dense(512))\n",
        "    model.add(Activation(activation))\n",
        "    model.add(Dropout(dropout))\n",
        "    model.add(Dense(7))\n",
        "    model.add(Activation('softmax'))\n",
        "\n",
        "    # initiate RMSprop(Root Means Squared) optimizer\n",
        "    opt = optimizers.RMSprop(learning_rate=0.0001, decay=1e-6)\n",
        "\n",
        "    # Let's train the model using RMSprop\n",
        "    model.compile(loss='categorical_crossentropy',\n",
        "                  optimizer=opt,\n",
        "                  metrics=[tf.keras.metrics.AUC()])\n",
        "    return model\n",
        "  return KerasClassifier(build_fn=create_model, epochs=epochs, batch_size=batch_size, verbose=1)"
      ],
      "execution_count": null,
      "outputs": []
    },
    {
      "cell_type": "markdown",
      "metadata": {
        "id": "VDsvw0vZPYDm"
      },
      "source": [
        "Some terms you might notice include Epochs, Batch Size, Learning Rate, Dropout, and Activation functions:\n",
        "\n",
        "\n",
        "*   Dropout is a method of preventing overfitting by randomly ignoring certain neurons from the model during training.\n",
        "*   Activation functions determine how a neuron calculates its output after adding up its weighted inputs.\n",
        "*   Epochs are just the number of iterations we would like to train our model for.\n",
        "*   Batch Size is the number of samples we would like to send through the model at a time.\n",
        "*   The Learning Rate is a hyperparameter that affects how quickly the model changes to adapt to the training data. \n",
        "\n",
        "Phew, that was a lot of terms! \n",
        "\n",
        "**Question:** With your knowledge so far, what values would you set these parameters to be? What might your model's architecture look like?"
      ]
    },
    {
      "cell_type": "code",
      "metadata": {
        "id": "M33InjU0cybr"
      },
      "source": [
        "# Your Response Here\n",
        "\n"
      ],
      "execution_count": null,
      "outputs": []
    },
    {
      "cell_type": "markdown",
      "metadata": {
        "id": "_1kKW8jm1m24"
      },
      "source": [
        "We also need to transform our y labels into one hot encoded labels for training."
      ]
    },
    {
      "cell_type": "code",
      "metadata": {
        "id": "WPCxQjeS1Qjk"
      },
      "source": [
        "y_train_onehot = np.zeros((y_train.size, y_train.max().astype(int)+1))\n",
        "y_train_onehot[np.arange(y_train.size),y_train.astype(int)] = 1\n",
        "\n",
        "y_test_onehot = np.zeros((y_test.size, y_test.max().astype(int)+1))\n",
        "y_test_onehot[np.arange(y_test.size),y_test.astype(int)] = 1"
      ],
      "execution_count": null,
      "outputs": []
    },
    {
      "cell_type": "markdown",
      "metadata": {
        "id": "tWHMBqfzkBVM"
      },
      "source": [
        "Let's initialize and train our CNN. This may take a while to execute as well."
      ]
    },
    {
      "cell_type": "code",
      "metadata": {
        "id": "z_blzuQQyiJv",
        "colab": {
          "base_uri": "https://localhost:8080/"
        },
        "outputId": "31452c1c-4d0d-4e9c-fa9e-9623d6bbb2f9"
      },
      "source": [
        "cnn = CNNClassifier()\n",
        "\n",
        "cnn.fit(X_train.astype(np.float32), y_train_onehot.astype(np.float32),\n",
        "        validation_data=(X_test.astype(np.float32),y_test_onehot.astype(np.float32))\n",
        "        ,verbose=1)"
      ],
      "execution_count": null,
      "outputs": [
        {
          "output_type": "stream",
          "name": "stderr",
          "text": [
            "/usr/local/lib/python3.7/dist-packages/ipykernel_launcher.py:38: DeprecationWarning: KerasClassifier is deprecated, use Sci-Keras (https://github.com/adriangb/scikeras) instead. See https://www.adriangb.com/scikeras/stable/migration.html for help migrating.\n"
          ]
        },
        {
          "output_type": "stream",
          "name": "stdout",
          "text": [
            "Epoch 1/20\n",
            "116/116 [==============================] - 20s 50ms/step - loss: 3.3352 - auc: 0.5991 - val_loss: 1.7846 - val_auc: 0.7148\n",
            "Epoch 2/20\n",
            "116/116 [==============================] - 5s 45ms/step - loss: 1.6560 - auc: 0.7478 - val_loss: 1.6262 - val_auc: 0.7937\n",
            "Epoch 3/20\n",
            "116/116 [==============================] - 5s 45ms/step - loss: 1.4674 - auc: 0.8203 - val_loss: 1.6349 - val_auc: 0.7776\n",
            "Epoch 4/20\n",
            "116/116 [==============================] - 5s 46ms/step - loss: 1.3332 - auc: 0.8559 - val_loss: 1.5200 - val_auc: 0.8356\n",
            "Epoch 5/20\n",
            "116/116 [==============================] - 5s 47ms/step - loss: 1.2440 - auc: 0.8799 - val_loss: 1.4811 - val_auc: 0.8295\n",
            "Epoch 6/20\n",
            "116/116 [==============================] - 5s 46ms/step - loss: 1.1623 - auc: 0.8965 - val_loss: 1.4484 - val_auc: 0.8330\n",
            "Epoch 7/20\n",
            "116/116 [==============================] - 5s 46ms/step - loss: 1.0410 - auc: 0.9122 - val_loss: 1.3375 - val_auc: 0.8511\n",
            "Epoch 8/20\n",
            "116/116 [==============================] - 5s 46ms/step - loss: 0.9800 - auc: 0.9232 - val_loss: 1.3762 - val_auc: 0.8542\n",
            "Epoch 9/20\n",
            "116/116 [==============================] - 5s 47ms/step - loss: 0.9007 - auc: 0.9353 - val_loss: 1.4056 - val_auc: 0.8553\n",
            "Epoch 10/20\n",
            "116/116 [==============================] - 5s 47ms/step - loss: 0.8225 - auc: 0.9461 - val_loss: 1.3935 - val_auc: 0.8670\n",
            "Epoch 11/20\n",
            "116/116 [==============================] - 5s 47ms/step - loss: 0.7333 - auc: 0.9540 - val_loss: 1.5106 - val_auc: 0.8542\n",
            "Epoch 12/20\n",
            "116/116 [==============================] - 5s 47ms/step - loss: 0.6796 - auc: 0.9615 - val_loss: 1.4606 - val_auc: 0.8506\n",
            "Epoch 13/20\n",
            "116/116 [==============================] - 5s 47ms/step - loss: 0.6349 - auc: 0.9650 - val_loss: 1.7640 - val_auc: 0.8119\n",
            "Epoch 14/20\n",
            "116/116 [==============================] - 6s 48ms/step - loss: 0.5469 - auc: 0.9737 - val_loss: 1.7533 - val_auc: 0.8474\n",
            "Epoch 15/20\n",
            "116/116 [==============================] - 5s 47ms/step - loss: 0.5358 - auc: 0.9752 - val_loss: 2.0919 - val_auc: 0.8251\n",
            "Epoch 16/20\n",
            "116/116 [==============================] - 5s 47ms/step - loss: 0.4516 - auc: 0.9804 - val_loss: 1.6372 - val_auc: 0.8593\n",
            "Epoch 17/20\n",
            "116/116 [==============================] - 6s 48ms/step - loss: 0.4005 - auc: 0.9846 - val_loss: 2.0689 - val_auc: 0.8426\n",
            "Epoch 18/20\n",
            "116/116 [==============================] - 6s 48ms/step - loss: 0.4201 - auc: 0.9838 - val_loss: 2.4185 - val_auc: 0.8291\n",
            "Epoch 19/20\n",
            "116/116 [==============================] - 6s 48ms/step - loss: 0.3782 - auc: 0.9869 - val_loss: 2.1402 - val_auc: 0.8503\n",
            "Epoch 20/20\n",
            "116/116 [==============================] - 6s 48ms/step - loss: 0.3624 - auc: 0.9867 - val_loss: 2.4779 - val_auc: 0.8386\n"
          ]
        },
        {
          "output_type": "execute_result",
          "data": {
            "text/plain": [
              "<keras.callbacks.History at 0x7f888a6bb450>"
            ]
          },
          "metadata": {},
          "execution_count": 11
        }
      ]
    },
    {
      "cell_type": "markdown",
      "metadata": {
        "id": "NniM-5heGlsh"
      },
      "source": [
        "Let's save and download our trained model, so that we can use it in a web app later on."
      ]
    },
    {
      "cell_type": "code",
      "metadata": {
        "id": "WNiX3iRXTLoz"
      },
      "source": [
        "tfjs.converters.save_keras_model(cnn.model, 'cnn_model')"
      ],
      "execution_count": null,
      "outputs": []
    },
    {
      "cell_type": "markdown",
      "metadata": {
        "id": "f6p-1f4H-WyO"
      },
      "source": [
        "**Let's evaluate our model's performance!** Let's start by defining our `model_stats()` and `plot_cm()` functions."
      ]
    },
    {
      "cell_type": "code",
      "metadata": {
        "id": "tdgFEDo82dYQ"
      },
      "source": [
        "#@title Click here to define `model_stats()`! { display-mode: \"form\" }\n",
        "def model_stats(name, y_test, y_pred, y_pred_proba):\n",
        "  cm = confusion_matrix(y_test, y_pred)\n",
        "\n",
        "  print(name)\n",
        "\n",
        "  accuracy = accuracy_score(y_test,y_pred)\n",
        "  print (\"The accuracy of the model is \" + str(round(accuracy,5)))\n",
        "\n",
        "  y_test_onehot = np.zeros((y_test.size, y_test.max().astype(int)+1))\n",
        "  y_test_onehot[np.arange(y_test.size),y_test.astype(int)] = 1\n",
        "\n",
        "  roc_score = roc_auc_score(y_test_onehot, y_pred_proba)\n",
        "\n",
        "  print (\"The ROC AUC Score of the model is \" + str(round(roc_score,5)))\n",
        "  \n",
        "  return cm"
      ],
      "execution_count": null,
      "outputs": []
    },
    {
      "cell_type": "markdown",
      "metadata": {
        "id": "OvsanDVh3tJ_"
      },
      "source": [
        "How can we use this function to evaluate our model? Code your answer below!"
      ]
    },
    {
      "cell_type": "code",
      "metadata": {
        "id": "S1LVV03hvWI9",
        "colab": {
          "base_uri": "https://localhost:8080/"
        },
        "outputId": "9f61ce22-3415-44f6-dac3-2c906d4d5576"
      },
      "source": [
        "#@title Instructor Solution { display-mode: \"form\" }\n",
        "y_pred = cnn.predict(X_test)\n",
        "y_pred_proba = cnn.predict_proba(X_test)\n",
        "\n",
        "cnn_cm = model_stats(\"CNN\",y_test,y_pred,y_pred_proba)\n",
        "\n"
      ],
      "execution_count": null,
      "outputs": [
        {
          "output_type": "stream",
          "name": "stdout",
          "text": [
            "CNN\n",
            "The accuracy of the model is 0.56072\n",
            "The ROC AUC Score of the model is 0.8402\n"
          ]
        }
      ]
    },
    {
      "cell_type": "code",
      "metadata": {
        "id": "EHweJLDq2hJO"
      },
      "source": [
        "#@title Let's also redefine the `plot_cm()` function from our first notebook. { display-mode: \"form\" }\n",
        "def plot_cm(name, cm):\n",
        "  classes = ['akiec', 'bcc', 'bkl', 'df', 'mel', 'nv', 'vasc']\n",
        "\n",
        "  df_cm = pd.DataFrame(cm, index = [i for i in classes], columns = [i for i in classes])\n",
        "  df_cm = df_cm.round(5)\n",
        "\n",
        "  plt.figure(figsize = (12,8))\n",
        "  sns.heatmap(df_cm, annot=True, fmt='g')\n",
        "  plt.title(name + \" Model Confusion Matrix\")\n",
        "  plt.xlabel(\"Predicted Label\")\n",
        "  plt.ylabel(\"True Label\")\n",
        "  plt.show()"
      ],
      "execution_count": null,
      "outputs": []
    },
    {
      "cell_type": "markdown",
      "metadata": {
        "id": "es3RakSP49Tj"
      },
      "source": [
        "Let's use the function to plot a confusion matrix of our model!"
      ]
    },
    {
      "cell_type": "code",
      "metadata": {
        "id": "vN6xRVnLvY9n",
        "colab": {
          "base_uri": "https://localhost:8080/",
          "height": 513
        },
        "outputId": "cac0f925-e5b1-4c3d-b011-0f839b17c0e2"
      },
      "source": [
        "plot_cm(\"CNN\", cnn_cm)\n",
        "\n"
      ],
      "execution_count": null,
      "outputs": [
        {
          "output_type": "display_data",
          "data": {
            "text/plain": [
              "<Figure size 864x576 with 2 Axes>"
            ],
            "image/png": "[encoded data removed]"
          },
          "metadata": {
            "needs_background": "light"
          }
        }
      ]
    },
    {
      "cell_type": "markdown",
      "metadata": {
        "id": "2j89i4MY0RSm"
      },
      "source": [
        "It looks like our custom CNN's performance is better than the KNN and Decision Tree models. More training epochs or a bigger dataset would probably help with the performance."
      ]
    },
    {
      "cell_type": "markdown",
      "metadata": {
        "id": "bPtcDPJjF9KF"
      },
      "source": [
        "Try building your own CNN! Let's see who can get the best performance in your group!"
      ]
    },
    {
      "cell_type": "markdown",
      "metadata": {
        "id": "CUX0Etpsrnik"
      },
      "source": [
        "### First, define your model here!"
      ]
    },
    {
      "cell_type": "code",
      "metadata": {
        "id": "-eFkna-TGCB0"
      },
      "source": [
        "def CNNClassifier_Modified(epochs=20, batch_size=10, layers=5, dropout=0.5, activation='relu'):\n",
        "  def set_params():\n",
        "    i = 1  \n",
        "  def create_model():\n",
        "    model = Sequential()\n",
        "    \n",
        "    # Your Code Here\n",
        "    model.add(Flatten())\n",
        "    model.add(Dense(7))\n",
        "    model.add(Activation('softmax'))\n",
        "\n",
        "    # initiate RMSprop optimizer\n",
        "    opt = optimizers.RMSprop(learning_rate=0.0001, decay=1e-6)\n",
        "\n",
        "    # Let's train the model using RMSprop\n",
        "    model.compile(loss='categorical_crossentropy',\n",
        "                  optimizer=opt,\n",
        "                  metrics=[tf.keras.metrics.AUC()])\n",
        "    return model\n",
        "  return KerasClassifier(build_fn=create_model, epochs=epochs, batch_size=batch_size, verbose=1)"
      ],
      "execution_count": null,
      "outputs": []
    },
    {
      "cell_type": "markdown",
      "metadata": {
        "id": "_PPhn_GNrvgq"
      },
      "source": [
        "### Then, run the code below to train your model."
      ]
    },
    {
      "cell_type": "code",
      "metadata": {
        "id": "H1tJLItEGR70",
        "colab": {
          "base_uri": "https://localhost:8080/"
        },
        "outputId": "b3b4f2f2-fd3e-4dd3-b7de-d05a1ee7ab2a"
      },
      "source": [
        "cnn = CNNClassifier_Modified()\n",
        "\n",
        "cnn.fit(X_train.astype(np.float32), y_train_onehot.astype(np.float32),\n",
        "        validation_data=(X_test.astype(np.float32),y_test_onehot.astype(np.float32))\n",
        "        ,verbose=1)"
      ],
      "execution_count": null,
      "outputs": [
        {
          "output_type": "stream",
          "name": "stdout",
          "text": [
            "Epoch 1/20\n"
          ]
        },
        {
          "output_type": "stream",
          "name": "stderr",
          "text": [
            "/usr/local/lib/python3.7/dist-packages/ipykernel_launcher.py:20: DeprecationWarning: KerasClassifier is deprecated, use Sci-Keras (https://github.com/adriangb/scikeras) instead. See https://www.adriangb.com/scikeras/stable/migration.html for help migrating.\n"
          ]
        },
        {
          "output_type": "stream",
          "name": "stdout",
          "text": [
            "116/116 [==============================] - 1s 7ms/step - loss: 427.0555 - auc_1: 0.5251 - val_loss: 414.6503 - val_auc_1: 0.5432\n",
            "Epoch 2/20\n",
            "116/116 [==============================] - 1s 5ms/step - loss: 336.7231 - auc_1: 0.5455 - val_loss: 447.0593 - val_auc_1: 0.5499\n",
            "Epoch 3/20\n",
            "116/116 [==============================] - 1s 5ms/step - loss: 308.8774 - auc_1: 0.5711 - val_loss: 179.4555 - val_auc_1: 0.5575\n",
            "Epoch 4/20\n",
            "116/116 [==============================] - 1s 5ms/step - loss: 278.6033 - auc_1: 0.5924 - val_loss: 421.3416 - val_auc_1: 0.5648\n",
            "Epoch 5/20\n",
            "116/116 [==============================] - 1s 5ms/step - loss: 289.4276 - auc_1: 0.5908 - val_loss: 357.7511 - val_auc_1: 0.5729\n",
            "Epoch 6/20\n",
            "116/116 [==============================] - 1s 5ms/step - loss: 294.5668 - auc_1: 0.5814 - val_loss: 179.7775 - val_auc_1: 0.6176\n",
            "Epoch 7/20\n",
            "116/116 [==============================] - 1s 5ms/step - loss: 298.3071 - auc_1: 0.5829 - val_loss: 148.3125 - val_auc_1: 0.6159\n",
            "Epoch 8/20\n",
            "116/116 [==============================] - 1s 5ms/step - loss: 281.6137 - auc_1: 0.5891 - val_loss: 288.0344 - val_auc_1: 0.6061\n",
            "Epoch 9/20\n",
            "116/116 [==============================] - 1s 5ms/step - loss: 273.7069 - auc_1: 0.5958 - val_loss: 200.3424 - val_auc_1: 0.6328\n",
            "Epoch 10/20\n",
            "116/116 [==============================] - 1s 6ms/step - loss: 280.8392 - auc_1: 0.5956 - val_loss: 155.8369 - val_auc_1: 0.6411\n",
            "Epoch 11/20\n",
            "116/116 [==============================] - 1s 5ms/step - loss: 255.4349 - auc_1: 0.6060 - val_loss: 283.9870 - val_auc_1: 0.5985\n",
            "Epoch 12/20\n",
            "116/116 [==============================] - 1s 5ms/step - loss: 253.3679 - auc_1: 0.6127 - val_loss: 392.4498 - val_auc_1: 0.5437\n",
            "Epoch 13/20\n",
            "116/116 [==============================] - 1s 5ms/step - loss: 256.3253 - auc_1: 0.6090 - val_loss: 315.8470 - val_auc_1: 0.6023\n",
            "Epoch 14/20\n",
            "116/116 [==============================] - 1s 5ms/step - loss: 250.9266 - auc_1: 0.6174 - val_loss: 224.7019 - val_auc_1: 0.6236\n",
            "Epoch 15/20\n",
            "116/116 [==============================] - 1s 5ms/step - loss: 249.4117 - auc_1: 0.6251 - val_loss: 490.9190 - val_auc_1: 0.5279\n",
            "Epoch 16/20\n",
            "116/116 [==============================] - 1s 5ms/step - loss: 252.7433 - auc_1: 0.6097 - val_loss: 351.8540 - val_auc_1: 0.5876\n",
            "Epoch 17/20\n",
            "116/116 [==============================] - 1s 5ms/step - loss: 240.2719 - auc_1: 0.6306 - val_loss: 251.2241 - val_auc_1: 0.5807\n",
            "Epoch 18/20\n",
            "116/116 [==============================] - 1s 5ms/step - loss: 245.0599 - auc_1: 0.6194 - val_loss: 320.0263 - val_auc_1: 0.5781\n",
            "Epoch 19/20\n",
            "116/116 [==============================] - 1s 5ms/step - loss: 236.4505 - auc_1: 0.6336 - val_loss: 396.2710 - val_auc_1: 0.5972\n",
            "Epoch 20/20\n",
            "116/116 [==============================] - 1s 5ms/step - loss: 258.9322 - auc_1: 0.6152 - val_loss: 202.1493 - val_auc_1: 0.5990\n"
          ]
        },
        {
          "output_type": "execute_result",
          "data": {
            "text/plain": [
              "<keras.callbacks.History at 0x7f88750d1690>"
            ]
          },
          "metadata": {},
          "execution_count": 19
        }
      ]
    },
    {
      "cell_type": "markdown",
      "metadata": {
        "id": "2easqS-JviIS"
      },
      "source": [
        "### Next, let's evaluate your model's performance!"
      ]
    },
    {
      "cell_type": "code",
      "metadata": {
        "id": "6dSZrUKzGUZ7",
        "colab": {
          "base_uri": "https://localhost:8080/"
        },
        "outputId": "7e3ec150-f9df-4f20-8f58-e9492263695c"
      },
      "source": [
        "y_pred = cnn.predict(X_test)\n",
        "y_pred_proba = cnn.predict_proba(X_test)\n",
        "cnn_cm = model_stats(\"CNN\",y_test,y_pred,y_pred_proba)"
      ],
      "execution_count": null,
      "outputs": [
        {
          "output_type": "stream",
          "name": "stdout",
          "text": [
            "CNN\n",
            "The accuracy of the model is 0.31008\n",
            "The ROC AUC Score of the model is 0.65051\n"
          ]
        }
      ]
    },
    {
      "cell_type": "markdown",
      "metadata": {
        "id": "BVnNteSEvp3x"
      },
      "source": [
        "### Finally, we can plot our confusion matrix below."
      ]
    },
    {
      "cell_type": "code",
      "metadata": {
        "id": "B6DWNF-AGWQr",
        "colab": {
          "base_uri": "https://localhost:8080/",
          "height": 513
        },
        "outputId": "9cadc00e-8b9b-409d-b0fb-da64df4ea87a"
      },
      "source": [
        "plot_cm(\"CNN\", cnn_cm)"
      ],
      "execution_count": null,
      "outputs": [
        {
          "output_type": "display_data",
          "data": {
            "text/plain": [
              "<Figure size 864x576 with 2 Axes>"
            ],
            "image/png": "[encoded data removed]"
          },
          "metadata": {
            "needs_background": "light"
          }
        }
      ]
    },
    {
      "cell_type": "markdown",
      "metadata": {
        "id": "JK-jmPIbELKO"
      },
      "source": [
        "Let's try using a grid search with our CNN. A note to instructors, this section may take a long time to execute so it's better if students come back to this portion on their own time."
      ]
    },
    {
      "cell_type": "markdown",
      "metadata": {
        "id": "vSbd6nVW8qnK"
      },
      "source": [
        "In the variable `param_grid` we can specify which parameters in our CNN we want to modify."
      ]
    },
    {
      "cell_type": "code",
      "metadata": {
        "id": "h9sLO2ozhbEp"
      },
      "source": [
        "param_grid = {\n",
        "              'epochs' :              [10, 20, 30],\n",
        "              'batch_size' :          [32, 64,128],\n",
        "              'layers' :              [1, 3, 5],\n",
        "              'dropout' :             [0.2, 0.3, 0.5],\n",
        "              'activation' :          ['relu', 'elu']\n",
        "             }"
      ],
      "execution_count": null,
      "outputs": []
    },
    {
      "cell_type": "markdown",
      "metadata": {
        "id": "gUZ5HOnoFdur"
      },
      "source": [
        "With this parameter grid we would be training 162 different models! This is because the total number of hyperparameter combinations is calculated as `3 * 3 * 3 * 3 * 2`. For testing out our grid search, let's redefine our parameter grid to just have four possible combinations.\n",
        "\n"
      ]
    },
    {
      "cell_type": "code",
      "metadata": {
        "id": "t3RbPa_cXV90"
      },
      "source": [
        "#@title Instructor Solution { display-mode: \"form\" }\n",
        "param_grid = {\n",
        "              'epochs' :              [10, 20],\n",
        "              'dropout' :             [0.2, 0.3],\n",
        "             }"
      ],
      "execution_count": null,
      "outputs": []
    },
    {
      "cell_type": "markdown",
      "metadata": {
        "id": "L6O6O1kOzw45"
      },
      "source": [
        "Let's create a validation slice in our dataset."
      ]
    },
    {
      "cell_type": "code",
      "metadata": {
        "id": "Wq58SXMGz21Q"
      },
      "source": [
        "X_test_small, X_val, y_test_small, y_val = train_test_split(X_test, y_test, test_size=0.5, random_state=101)"
      ],
      "execution_count": null,
      "outputs": []
    },
    {
      "cell_type": "markdown",
      "metadata": {
        "id": "YhvYxtNbFASa"
      },
      "source": [
        "Here we've created a class for our Grid Search Classifier that can be used by the hypopt library for generating various models with different hyperparameters."
      ]
    },
    {
      "cell_type": "code",
      "metadata": {
        "id": "qzz_Dod38c09"
      },
      "source": [
        "#@title Run this to Define our Grid Search CNN Class { display-mode: \"form\" }\n",
        "class gridSearchCNN():\n",
        "    \n",
        "    keras_model = None\n",
        "    model = Sequential()\n",
        "    #epochs=10\n",
        "    epochs=1\n",
        "    batch_size=10\n",
        "    layers=5\n",
        "    dropout=0.5\n",
        "    activation='relu'\n",
        "    \n",
        "    def __init__(self, **params):\n",
        "      pass\n",
        "  \n",
        "    def fit(self, X, y, sample_weight = None):\n",
        "        print(\"fitting\")\n",
        "        self.keras_model.fit(X,y)\n",
        "        print(\"fitted\")\n",
        "        return self.keras_model\n",
        "    def predict(self, X):\n",
        "        return self.keras_model.predict(X)\n",
        "    def predict_proba(self, X):\n",
        "        return self.keras_model.predict_proba(X)\n",
        "    def score(self, X, y, sample_weight = None):\n",
        "        print(\"scoring\")\n",
        "        #return self.keras_model.score(X,y)\n",
        "        y_pred_proba = self.keras_model.predict_proba(X)\n",
        "        roc_auc_score_val = roc_auc_score(y, y_pred_proba)\n",
        "        print(\"scored\")\n",
        "        return roc_auc_score_val\n",
        "                \n",
        "    \n",
        "    def createKerasCNN(self,):\n",
        "      \n",
        "      def create_model():\n",
        "        self.model = Sequential() \n",
        "        \n",
        "        for i in range(self.layers):\n",
        "          self.model.add(Conv2D(64, (3, 3), padding='same'))\n",
        "          self.model.add(Activation(self.activation))\n",
        "        \n",
        "        self.model.add(Conv2D(64, (3, 3)))\n",
        "        self.model.add(Activation(self.activation))\n",
        "        self.model.add(MaxPooling2D(pool_size=(2, 2)))\n",
        "        self.model.add(Dropout(self.dropout / 2.0))\n",
        "\n",
        "        self.model.add(Conv2D(128, (3, 3), padding='same'))\n",
        "        self.model.add(Activation(self.activation))\n",
        "        self.model.add(Conv2D(128, (3, 3)))\n",
        "        self.model.add(Activation(self.activation))\n",
        "        self.model.add(MaxPooling2D(pool_size=(2, 2)))\n",
        "        self.model.add(Dropout(self.dropout / 2.0))\n",
        "\n",
        "        self.model.add(Flatten())\n",
        "        self.model.add(Dense(512))\n",
        "        self.model.add(Activation(self.activation))\n",
        "        self.model.add(Dropout(self.dropout))\n",
        "        self.model.add(Dense(7))\n",
        "        self.model.add(Activation('softmax'))\n",
        "\n",
        "        # initiate RMSprop optimizer\n",
        "        opt = optimizers.RMSprop(learning_rate=0.0001, decay=1e-6)\n",
        "\n",
        "        # Let's train the model using RMSprop\n",
        "        self.model.compile(loss='categorical_crossentropy',\n",
        "                      optimizer=opt,\n",
        "                      metrics=[tf.keras.metrics.AUC()])\n",
        "        return self.model\n",
        "\n",
        "      return KerasClassifier(build_fn=create_model, epochs=self.epochs, \n",
        "                            batch_size=self.batch_size, verbose=2)\n",
        "\n",
        "    def get_params(self, deep = True):\n",
        "        return {\n",
        "            'epochs': self.epochs,\n",
        "            'batch_size': self.batch_size,\n",
        "            'layers': self.layers,\n",
        "            'dropout': self.dropout,\n",
        "            'activation': self.activation\n",
        "            }\n",
        "\n",
        "    def set_params(self, **params):\n",
        "      if 'epochs' in params.keys():\n",
        "        self.epochs = params['epochs']\n",
        "      if 'batch_size' in params.keys():\n",
        "        self.batch_size = params['batch_size']\n",
        "      if 'layers' in params.keys():\n",
        "        self.layers = params['layers']\n",
        "      if 'dropout' in params.keys():\n",
        "        self.dropout = params['dropout']\n",
        "      if 'activation' in params.keys():\n",
        "        self.activation = params['activation']\n",
        "      \n",
        "      self.keras_model = self.createKerasCNN()\n",
        "      return self"
      ],
      "execution_count": null,
      "outputs": []
    },
    {
      "cell_type": "markdown",
      "metadata": {
        "id": "KMGPIzKqkOQO"
      },
      "source": [
        "Now let's implement our grid search to identify our optimal model parameters.\n",
        "\n",
        "**Note:** This may take very long to run (around 11 minutes), so it might be a good idea to come back to this later."
      ]
    },
    {
      "cell_type": "code",
      "metadata": {
        "id": "kSdY_2_PvwNd",
        "colab": {
          "base_uri": "https://localhost:8080/"
        },
        "outputId": "d5991e0d-9c0a-4c87-f6e1-50613d212db9"
      },
      "source": [
        "gs = GridSearch(model=gridSearchCNN(),param_grid=param_grid,parallelize=False)\n",
        "# Your Code Here\n",
        "#@title Instructor Solution { display-mode: \"form\" }\n",
        "gs.fit(X_train.astype(np.float32), y_train_onehot.astype(np.float32),\n",
        "       X_val.astype(np.float32), y_val_onehot.astype(np.float32),verbose=1)\n",
        "# End Code\n",
        "y_train_onehot = np.zeros((y_train.size, y_train.max().astype(int)+1))\n",
        "y_train_onehot[np.arange(y_train.size),y_train.astype(int)] = 1\n",
        "\n",
        "y_val_onehot = np.zeros((y_val.size, y_val.max().astype(int)+1))\n",
        "y_val_onehot[np.arange(y_val.size),y_val.astype(int)] = 1"
      ],
      "execution_count": null,
      "outputs": [
        {
          "output_type": "stream",
          "name": "stdout",
          "text": [
            "Comparing 4 parameter setting(s) using 2 CPU thread(s) ( 2 job(s) per thread ).\n",
            "fitting\n"
          ]
        },
        {
          "output_type": "stream",
          "name": "stderr",
          "text": [
            "/usr/local/lib/python3.7/dist-packages/ipykernel_launcher.py:72: DeprecationWarning: KerasClassifier is deprecated, use Sci-Keras (https://github.com/adriangb/scikeras) instead. See https://www.adriangb.com/scikeras/stable/migration.html for help migrating.\n"
          ]
        },
        {
          "output_type": "stream",
          "name": "stdout",
          "text": [
            "Epoch 1/10\n",
            "116/116 - 7s - loss: 2.3628 - auc_2: 0.6719 - 7s/epoch - 63ms/step\n",
            "Epoch 2/10\n",
            "116/116 - 5s - loss: 1.4540 - auc_2: 0.8203 - 5s/epoch - 41ms/step\n",
            "Epoch 3/10\n",
            "116/116 - 5s - loss: 1.2413 - auc_2: 0.8742 - 5s/epoch - 42ms/step\n",
            "Epoch 4/10\n",
            "116/116 - 5s - loss: 1.0492 - auc_2: 0.9084 - 5s/epoch - 42ms/step\n",
            "Epoch 5/10\n",
            "116/116 - 5s - loss: 0.9361 - auc_2: 0.9318 - 5s/epoch - 42ms/step\n",
            "Epoch 6/10\n",
            "116/116 - 5s - loss: 0.7474 - auc_2: 0.9528 - 5s/epoch - 43ms/step\n",
            "Epoch 7/10\n",
            "116/116 - 5s - loss: 0.6059 - auc_2: 0.9682 - 5s/epoch - 44ms/step\n",
            "Epoch 8/10\n",
            "116/116 - 5s - loss: 0.5346 - auc_2: 0.9742 - 5s/epoch - 43ms/step\n",
            "Epoch 9/10\n",
            "116/116 - 5s - loss: 0.4102 - auc_2: 0.9839 - 5s/epoch - 44ms/step\n",
            "Epoch 10/10\n",
            "116/116 - 5s - loss: 0.3216 - auc_2: 0.9897 - 5s/epoch - 43ms/step\n",
            "fitted\n",
            "scoring\n",
            "scored\n",
            "fitting\n"
          ]
        },
        {
          "output_type": "stream",
          "name": "stderr",
          "text": [
            "/usr/local/lib/python3.7/dist-packages/ipykernel_launcher.py:72: DeprecationWarning: KerasClassifier is deprecated, use Sci-Keras (https://github.com/adriangb/scikeras) instead. See https://www.adriangb.com/scikeras/stable/migration.html for help migrating.\n"
          ]
        },
        {
          "output_type": "stream",
          "name": "stdout",
          "text": [
            "Epoch 1/20\n",
            "116/116 - 7s - loss: 2.2338 - auc_3: 0.6712 - 7s/epoch - 63ms/step\n",
            "Epoch 2/20\n",
            "116/116 - 5s - loss: 1.4379 - auc_3: 0.8216 - 5s/epoch - 41ms/step\n",
            "Epoch 3/20\n",
            "116/116 - 5s - loss: 1.2289 - auc_3: 0.8798 - 5s/epoch - 41ms/step\n",
            "Epoch 4/20\n",
            "116/116 - 5s - loss: 1.0029 - auc_3: 0.9160 - 5s/epoch - 41ms/step\n",
            "Epoch 5/20\n",
            "116/116 - 5s - loss: 0.8175 - auc_3: 0.9443 - 5s/epoch - 41ms/step\n",
            "Epoch 6/20\n",
            "116/116 - 5s - loss: 0.6497 - auc_3: 0.9634 - 5s/epoch - 43ms/step\n",
            "Epoch 7/20\n",
            "116/116 - 5s - loss: 0.5450 - auc_3: 0.9744 - 5s/epoch - 42ms/step\n",
            "Epoch 8/20\n",
            "116/116 - 5s - loss: 0.3753 - auc_3: 0.9868 - 5s/epoch - 41ms/step\n",
            "Epoch 9/20\n",
            "116/116 - 5s - loss: 0.3121 - auc_3: 0.9889 - 5s/epoch - 41ms/step\n",
            "Epoch 10/20\n",
            "116/116 - 5s - loss: 0.2433 - auc_3: 0.9939 - 5s/epoch - 41ms/step\n",
            "Epoch 11/20\n",
            "116/116 - 5s - loss: 0.2438 - auc_3: 0.9920 - 5s/epoch - 41ms/step\n",
            "Epoch 12/20\n",
            "116/116 - 5s - loss: 0.1829 - auc_3: 0.9935 - 5s/epoch - 41ms/step\n",
            "Epoch 13/20\n",
            "116/116 - 5s - loss: 0.2032 - auc_3: 0.9932 - 5s/epoch - 41ms/step\n",
            "Epoch 14/20\n",
            "116/116 - 5s - loss: 0.1225 - auc_3: 0.9959 - 5s/epoch - 41ms/step\n",
            "Epoch 15/20\n",
            "116/116 - 5s - loss: 0.2106 - auc_3: 0.9916 - 5s/epoch - 42ms/step\n",
            "Epoch 16/20\n",
            "116/116 - 5s - loss: 0.1113 - auc_3: 0.9971 - 5s/epoch - 41ms/step\n",
            "Epoch 17/20\n",
            "116/116 - 5s - loss: 0.1040 - auc_3: 0.9963 - 5s/epoch - 41ms/step\n",
            "Epoch 18/20\n",
            "116/116 - 5s - loss: 0.1475 - auc_3: 0.9932 - 5s/epoch - 41ms/step\n",
            "Epoch 19/20\n",
            "116/116 - 5s - loss: 0.0395 - auc_3: 0.9990 - 5s/epoch - 41ms/step\n",
            "Epoch 20/20\n",
            "116/116 - 5s - loss: 0.2275 - auc_3: 0.9928 - 5s/epoch - 41ms/step\n",
            "fitted\n",
            "scoring\n",
            "scored\n",
            "fitting\n",
            "Epoch 1/10\n"
          ]
        },
        {
          "output_type": "stream",
          "name": "stderr",
          "text": [
            "/usr/local/lib/python3.7/dist-packages/ipykernel_launcher.py:72: DeprecationWarning: KerasClassifier is deprecated, use Sci-Keras (https://github.com/adriangb/scikeras) instead. See https://www.adriangb.com/scikeras/stable/migration.html for help migrating.\n"
          ]
        },
        {
          "output_type": "stream",
          "name": "stdout",
          "text": [
            "116/116 - 6s - loss: 3.0108 - auc_4: 0.6204 - 6s/epoch - 54ms/step\n",
            "Epoch 2/10\n",
            "116/116 - 5s - loss: 1.5675 - auc_4: 0.7847 - 5s/epoch - 41ms/step\n",
            "Epoch 3/10\n",
            "116/116 - 5s - loss: 1.3772 - auc_4: 0.8465 - 5s/epoch - 41ms/step\n",
            "Epoch 4/10\n",
            "116/116 - 5s - loss: 1.2262 - auc_4: 0.8768 - 5s/epoch - 41ms/step\n",
            "Epoch 5/10\n",
            "116/116 - 5s - loss: 1.0725 - auc_4: 0.9085 - 5s/epoch - 41ms/step\n",
            "Epoch 6/10\n",
            "116/116 - 5s - loss: 0.9378 - auc_4: 0.9280 - 5s/epoch - 41ms/step\n",
            "Epoch 7/10\n",
            "116/116 - 5s - loss: 0.8490 - auc_4: 0.9411 - 5s/epoch - 41ms/step\n",
            "Epoch 8/10\n",
            "116/116 - 5s - loss: 0.7257 - auc_4: 0.9574 - 5s/epoch - 41ms/step\n",
            "Epoch 9/10\n",
            "116/116 - 5s - loss: 0.5849 - auc_4: 0.9701 - 5s/epoch - 41ms/step\n",
            "Epoch 10/10\n",
            "116/116 - 5s - loss: 0.5018 - auc_4: 0.9779 - 5s/epoch - 41ms/step\n",
            "fitted\n",
            "scoring\n",
            "scored\n",
            "fitting\n",
            "Epoch 1/20\n"
          ]
        },
        {
          "output_type": "stream",
          "name": "stderr",
          "text": [
            "/usr/local/lib/python3.7/dist-packages/ipykernel_launcher.py:72: DeprecationWarning: KerasClassifier is deprecated, use Sci-Keras (https://github.com/adriangb/scikeras) instead. See https://www.adriangb.com/scikeras/stable/migration.html for help migrating.\n"
          ]
        },
        {
          "output_type": "stream",
          "name": "stdout",
          "text": [
            "116/116 - 6s - loss: 3.5559 - auc_5: 0.6087 - 6s/epoch - 53ms/step\n",
            "Epoch 2/20\n",
            "116/116 - 5s - loss: 1.6338 - auc_5: 0.7528 - 5s/epoch - 41ms/step\n",
            "Epoch 3/20\n",
            "116/116 - 5s - loss: 1.4175 - auc_5: 0.8290 - 5s/epoch - 41ms/step\n",
            "Epoch 4/20\n",
            "116/116 - 5s - loss: 1.3187 - auc_5: 0.8584 - 5s/epoch - 41ms/step\n",
            "Epoch 5/20\n",
            "116/116 - 5s - loss: 1.1308 - auc_5: 0.8949 - 5s/epoch - 41ms/step\n",
            "Epoch 6/20\n",
            "116/116 - 5s - loss: 1.0730 - auc_5: 0.9183 - 5s/epoch - 41ms/step\n",
            "Epoch 7/20\n",
            "116/116 - 5s - loss: 0.9380 - auc_5: 0.9353 - 5s/epoch - 41ms/step\n",
            "Epoch 8/20\n",
            "116/116 - 5s - loss: 0.7850 - auc_5: 0.9493 - 5s/epoch - 41ms/step\n",
            "Epoch 9/20\n",
            "116/116 - 5s - loss: 0.7043 - auc_5: 0.9598 - 5s/epoch - 41ms/step\n",
            "Epoch 10/20\n",
            "116/116 - 5s - loss: 0.5590 - auc_5: 0.9719 - 5s/epoch - 42ms/step\n",
            "Epoch 11/20\n",
            "116/116 - 5s - loss: 0.4969 - auc_5: 0.9780 - 5s/epoch - 41ms/step\n",
            "Epoch 12/20\n",
            "116/116 - 5s - loss: 0.5095 - auc_5: 0.9806 - 5s/epoch - 41ms/step\n",
            "Epoch 13/20\n",
            "116/116 - 5s - loss: 0.3181 - auc_5: 0.9891 - 5s/epoch - 44ms/step\n",
            "Epoch 14/20\n",
            "116/116 - 5s - loss: 0.3379 - auc_5: 0.9875 - 5s/epoch - 41ms/step\n",
            "Epoch 15/20\n",
            "116/116 - 5s - loss: 0.2441 - auc_5: 0.9918 - 5s/epoch - 41ms/step\n",
            "Epoch 16/20\n",
            "116/116 - 5s - loss: 0.2621 - auc_5: 0.9887 - 5s/epoch - 41ms/step\n",
            "Epoch 17/20\n",
            "116/116 - 5s - loss: 0.1930 - auc_5: 0.9939 - 5s/epoch - 41ms/step\n",
            "Epoch 18/20\n",
            "116/116 - 5s - loss: 0.1659 - auc_5: 0.9964 - 5s/epoch - 41ms/step\n",
            "Epoch 19/20\n",
            "116/116 - 5s - loss: 0.1906 - auc_5: 0.9931 - 5s/epoch - 41ms/step\n",
            "Epoch 20/20\n",
            "116/116 - 5s - loss: 0.2148 - auc_5: 0.9949 - 5s/epoch - 41ms/step\n",
            "fitted\n",
            "scoring\n",
            "scored\n"
          ]
        }
      ]
    },
    {
      "cell_type": "markdown",
      "metadata": {
        "id": "sov5qvd49gZ1"
      },
      "source": [
        "Let's evaluate our model with our testing dataset."
      ]
    },
    {
      "cell_type": "code",
      "metadata": {
        "id": "qUi61PjX9lS2",
        "colab": {
          "base_uri": "https://localhost:8080/"
        },
        "outputId": "0b87a74b-6892-4f98-ccee-8a0cef1c01a7"
      },
      "source": [
        "#@title Instructor Solution { display-mode: \"form\" }\n",
        "y_pred = gs.predict(X_test_small)\n",
        "y_pred_proba = gs.predict_proba(X_test_small)\n",
        "gs_cm = model_stats(\"Grid Search CNN\",y_test_small,y_pred,y_pred_proba)\n",
        "\n",
        "\n"
      ],
      "execution_count": null,
      "outputs": [
        {
          "output_type": "stream",
          "name": "stdout",
          "text": [
            "Grid Search CNN\n",
            "The accuracy of the model is 0.4715\n",
            "The ROC AUC Score of the model is 0.78862\n"
          ]
        }
      ]
    },
    {
      "cell_type": "markdown",
      "metadata": {
        "id": "69xnmWMM-IVp"
      },
      "source": [
        "Let's also plot the confusion matrix."
      ]
    },
    {
      "cell_type": "code",
      "metadata": {
        "id": "MedHDGHE-OLo",
        "colab": {
          "base_uri": "https://localhost:8080/",
          "height": 513
        },
        "outputId": "60777df2-045d-4437-fdd8-1930df3a4df0"
      },
      "source": [
        "# Your Code Here\n",
        "#@title Instructor Solution { display-mode: \"form\" }\n",
        "plot_cm(\"Grid Search CNN\", gs_cm)"
      ],
      "execution_count": null,
      "outputs": [
        {
          "output_type": "display_data",
          "data": {
            "text/plain": [
              "<Figure size 864x576 with 2 Axes>"
            ],
            "image/png": "[encoded data removed]"
          },
          "metadata": {
            "needs_background": "light"
          }
        }
      ]
    },
    {
      "cell_type": "markdown",
      "metadata": {
        "id": "VxzSJIvvhC_I"
      },
      "source": [
        "#Transfer Learning\n",
        "\n",
        "Now, let's try implementing *transfer learning.* This a form of machine learning where we take an existing pre-trained network and modify the weights for the top level neurons by training on our dataset. Here, we'll use the MobileNet model as a basis for our model."
      ]
    },
    {
      "cell_type": "code",
      "metadata": {
        "id": "m_JkoWrRwJms"
      },
      "source": [
        "def transfer_learning_model():\n",
        "  mobilenet_model = MobileNet(input_shape=(IMG_HEIGHT,IMG_WIDTH,3), include_top=False, pooling=\"max\")\n",
        "\n",
        "  transfer_model = Sequential()\n",
        "  transfer_model.add(mobilenet_model)\n",
        "  transfer_model.add(Dropout(0.1))\n",
        "  transfer_model.add(BatchNormalization())\n",
        "  transfer_model.add(Dense(256, activation=\"relu\"))\n",
        "  transfer_model.add(Dropout(0.1))\n",
        "  transfer_model.add(BatchNormalization())\n",
        "  transfer_model.add(Dense(7, activation=\"softmax\"))\n",
        "\n",
        "  # initiate RMSprop optimizer\n",
        "  opt = optimizers.RMSprop(learning_rate=0.0001, decay=1e-6)\n",
        "\n",
        "  # Let's train the model using RMSprop\n",
        "  transfer_model.compile(loss='categorical_crossentropy',\n",
        "                optimizer=opt,\n",
        "                metrics=[tf.keras.metrics.AUC()])\n",
        "\n",
        "  return transfer_model"
      ],
      "execution_count": null,
      "outputs": []
    },
    {
      "cell_type": "markdown",
      "metadata": {
        "id": "p31AQxYW_rhq"
      },
      "source": [
        "We no longer need the validation dataset as we aren't tweaking any hyperparameters anymore, so we can use our original, bigger `X_test` dataset that includes the validation data."
      ]
    },
    {
      "cell_type": "markdown",
      "metadata": {
        "id": "yInf5HpxGlvR"
      },
      "source": [
        "Let's confirm that our training and testing variables are the right shapes. Once again, we'll use the one-hot encoded variables for the output: `y_test_roc` and `y_train_roc`."
      ]
    },
    {
      "cell_type": "markdown",
      "metadata": {
        "id": "y000oRyf-yRy"
      },
      "source": [
        "Let's define our `transfer_model` and train it below!"
      ]
    },
    {
      "cell_type": "code",
      "metadata": {
        "id": "T0NmNz5L_Rku",
        "colab": {
          "base_uri": "https://localhost:8080/"
        },
        "outputId": "5303ea1f-e995-42e3-aa9d-a10ba503906b"
      },
      "source": [
        "transfer_model = KerasClassifier(build_fn=transfer_learning_model, verbose=1, epochs=20)\n",
        "# Your Code Here\n",
        "#@title Instructor Solution { display-mode: \"form\" }\n",
        "print(X_train.shape)\n",
        "print(y_train_onehot.shape)\n",
        "\n",
        "print(X_test.shape)\n",
        "print(y_test_onehot.shape)\n"
      ],
      "execution_count": null,
      "outputs": [
        {
          "output_type": "stream",
          "name": "stdout",
          "text": [
            "(1160, 75, 100, 3)\n",
            "(1160, 7)\n",
            "(387, 75, 100, 3)\n",
            "(387, 7)\n"
          ]
        },
        {
          "output_type": "stream",
          "name": "stderr",
          "text": [
            "/usr/local/lib/python3.7/dist-packages/ipykernel_launcher.py:1: DeprecationWarning: KerasClassifier is deprecated, use Sci-Keras (https://github.com/adriangb/scikeras) instead. See https://www.adriangb.com/scikeras/stable/migration.html for help migrating.\n",
            "  \"\"\"Entry point for launching an IPython kernel.\n"
          ]
        }
      ]
    },
    {
      "cell_type": "markdown",
      "metadata": {
        "id": "rAQXleqU_DEy"
      },
      "source": [
        "Let's also observe its performance:"
      ]
    },
    {
      "cell_type": "code",
      "metadata": {
        "id": "Qmemnv5RDf4_",
        "colab": {
          "base_uri": "https://localhost:8080/"
        },
        "outputId": "d1704f33-44fd-4612-985b-e049f709a6ee"
      },
      "source": [
        "# Your Code Here\n",
        "transfer_model = KerasClassifier(build_fn=transfer_learning_model, verbose=1, epochs=20)\n",
        "transfer_model.fit(X_train.astype(np.float32), y_train_onehot.astype(np.float32),\n",
        "        validation_data=(X_test.astype(np.float32),y_test_onehot.astype(np.float32))\n",
        "        ,verbose=1)\n",
        "\n"
      ],
      "execution_count": null,
      "outputs": [
        {
          "output_type": "stream",
          "name": "stdout",
          "text": [
            "WARNING:tensorflow:`input_shape` is undefined or non-square, or `rows` is not in [128, 160, 192, 224]. Weights for input shape (224, 224) will be loaded as the default.\n"
          ]
        },
        {
          "output_type": "stream",
          "name": "stderr",
          "text": [
            "/usr/local/lib/python3.7/dist-packages/ipykernel_launcher.py:3: DeprecationWarning: KerasClassifier is deprecated, use Sci-Keras (https://github.com/adriangb/scikeras) instead. See https://www.adriangb.com/scikeras/stable/migration.html for help migrating.\n",
            "  This is separate from the ipykernel package so we can avoid doing imports until\n"
          ]
        },
        {
          "output_type": "stream",
          "name": "stdout",
          "text": [
            "Downloading data from https://storage.googleapis.com/tensorflow/keras-applications/mobilenet/mobilenet_1_0_224_tf_no_top.h5\n",
            "17227776/17225924 [==============================] - 0s 0us/step\n",
            "17235968/17225924 [==============================] - 0s 0us/step\n",
            "Epoch 1/20\n",
            "37/37 [==============================] - 10s 80ms/step - loss: 1.8402 - auc_6: 0.7227 - val_loss: 2.9129 - val_auc_6: 0.6050\n",
            "Epoch 2/20\n",
            "37/37 [==============================] - 2s 41ms/step - loss: 1.0077 - auc_6: 0.9139 - val_loss: 2.5979 - val_auc_6: 0.6731\n",
            "Epoch 3/20\n",
            "37/37 [==============================] - 1s 40ms/step - loss: 0.6351 - auc_6: 0.9673 - val_loss: 1.8785 - val_auc_6: 0.7677\n",
            "Epoch 4/20\n",
            "37/37 [==============================] - 1s 40ms/step - loss: 0.4248 - auc_6: 0.9874 - val_loss: 1.4529 - val_auc_6: 0.8426\n",
            "Epoch 5/20\n",
            "37/37 [==============================] - 1s 40ms/step - loss: 0.2677 - auc_6: 0.9959 - val_loss: 1.3100 - val_auc_6: 0.8752\n",
            "Epoch 6/20\n",
            "37/37 [==============================] - 2s 45ms/step - loss: 0.1811 - auc_6: 0.9988 - val_loss: 1.2305 - val_auc_6: 0.8879\n",
            "Epoch 7/20\n",
            "37/37 [==============================] - 2s 58ms/step - loss: 0.1324 - auc_6: 0.9990 - val_loss: 1.1313 - val_auc_6: 0.9056\n",
            "Epoch 8/20\n",
            "37/37 [==============================] - 2s 54ms/step - loss: 0.0896 - auc_6: 0.9996 - val_loss: 1.0907 - val_auc_6: 0.9129\n",
            "Epoch 9/20\n",
            "37/37 [==============================] - 2s 55ms/step - loss: 0.0731 - auc_6: 0.9998 - val_loss: 1.1175 - val_auc_6: 0.9108\n",
            "Epoch 10/20\n",
            "37/37 [==============================] - 2s 55ms/step - loss: 0.0560 - auc_6: 0.9999 - val_loss: 1.0553 - val_auc_6: 0.9194\n",
            "Epoch 11/20\n",
            "37/37 [==============================] - 2s 52ms/step - loss: 0.0412 - auc_6: 0.9999 - val_loss: 1.0953 - val_auc_6: 0.9201\n",
            "Epoch 12/20\n",
            "37/37 [==============================] - 2s 46ms/step - loss: 0.0411 - auc_6: 0.9999 - val_loss: 1.1616 - val_auc_6: 0.9136\n",
            "Epoch 13/20\n",
            "37/37 [==============================] - 2s 42ms/step - loss: 0.0312 - auc_6: 1.0000 - val_loss: 1.1260 - val_auc_6: 0.9157\n",
            "Epoch 14/20\n",
            "37/37 [==============================] - 2s 43ms/step - loss: 0.0274 - auc_6: 1.0000 - val_loss: 1.0997 - val_auc_6: 0.9253\n",
            "Epoch 15/20\n",
            "37/37 [==============================] - 1s 40ms/step - loss: 0.0177 - auc_6: 1.0000 - val_loss: 1.1292 - val_auc_6: 0.9182\n",
            "Epoch 16/20\n",
            "37/37 [==============================] - 1s 40ms/step - loss: 0.0330 - auc_6: 0.9995 - val_loss: 1.1891 - val_auc_6: 0.9162\n",
            "Epoch 17/20\n",
            "37/37 [==============================] - 1s 40ms/step - loss: 0.0229 - auc_6: 1.0000 - val_loss: 1.1533 - val_auc_6: 0.9160\n",
            "Epoch 18/20\n",
            "37/37 [==============================] - 2s 41ms/step - loss: 0.0166 - auc_6: 1.0000 - val_loss: 1.0644 - val_auc_6: 0.9282\n",
            "Epoch 19/20\n",
            "37/37 [==============================] - 2s 41ms/step - loss: 0.0143 - auc_6: 1.0000 - val_loss: 1.0969 - val_auc_6: 0.9223\n",
            "Epoch 20/20\n",
            "37/37 [==============================] - 2s 41ms/step - loss: 0.0154 - auc_6: 1.0000 - val_loss: 1.1448 - val_auc_6: 0.9203\n"
          ]
        },
        {
          "output_type": "execute_result",
          "data": {
            "text/plain": [
              "<keras.callbacks.History at 0x7f88740c89d0>"
            ]
          },
          "metadata": {},
          "execution_count": 33
        }
      ]
    },
    {
      "cell_type": "markdown",
      "metadata": {
        "id": "fcjLUgpa_E-e"
      },
      "source": [
        "Let's take a look at the confusion matrix."
      ]
    },
    {
      "cell_type": "code",
      "metadata": {
        "id": "-n_p4h60ADL1",
        "colab": {
          "base_uri": "https://localhost:8080/",
          "height": 513
        },
        "outputId": "3405a3f6-c6f9-4c7e-e2ce-77b1bec64261"
      },
      "source": [
        "plot_cm(\"Transfer Learning CNN\", transfer_cm)\n"
      ],
      "execution_count": null,
      "outputs": [
        {
          "output_type": "display_data",
          "data": {
            "text/plain": [
              "<Figure size 864x576 with 2 Axes>"
            ],
            "image/png": "[encoded data removed]"
          },
          "metadata": {
            "needs_background": "light"
          }
        }
      ]
    },
    {
      "cell_type": "markdown",
      "metadata": {
        "id": "l5fUPqfuAhoE"
      },
      "source": [
        "Great, looks like this model performed the best! **Question:** Why would that be? "
      ]
    },
    {
      "cell_type": "code",
      "metadata": {
        "id": "XjPeKGhNAnj6"
      },
      "source": [
        "# Your Response Here\n",
        "\n",
        "\n"
      ],
      "execution_count": null,
      "outputs": []
    },
    {
      "cell_type": "markdown",
      "metadata": {
        "id": "AYNCn41kApnl"
      },
      "source": [
        "Now that we've created our model, let's save it to a file we can load up later."
      ]
    },
    {
      "cell_type": "code",
      "metadata": {
        "id": "dtGN1E9tN2A0"
      },
      "source": [
        "tfjs.converters.save_keras_model(transfer_model.model, 'transfer_model')"
      ],
      "execution_count": null,
      "outputs": []
    },
    {
      "cell_type": "markdown",
      "metadata": {
        "id": "v6v4v5r8Dw0j"
      },
      "source": [
        " Now, the model should be saved to your computer through your browser. Unfortunately, tensorflowjs doesn't support this version of MobileNet, so we'll have to use our first CNN model for the website deployment."
      ]
    },
    {
      "cell_type": "markdown",
      "metadata": {
        "id": "IIwaTfNvDXo0"
      },
      "source": [
        "Great work! We've just developed various ML models to perform classification on our skin lesion dataset! Now, our next step is to package this model into a mobile application. Run the code cell below."
      ]
    },
    {
      "cell_type": "code",
      "metadata": {
        "id": "CX6OKDjzyvVP",
        "colab": {
          "base_uri": "https://localhost:8080/"
        },
        "outputId": "9ae252ca-6b9b-46a2-92f2-513afef6f487"
      },
      "source": [
        "!zip -r ./cnn_model.zip ./cnn_model/"
      ],
      "execution_count": null,
      "outputs": [
        {
          "output_type": "stream",
          "name": "stdout",
          "text": [
            "  adding: cnn_model/ (stored 0%)\n",
            "  adding: cnn_model/group1-shard12of25.bin (deflated 7%)\n",
            "  adding: cnn_model/group1-shard23of25.bin (deflated 7%)\n",
            "  adding: cnn_model/group1-shard15of25.bin (deflated 7%)\n",
            "  adding: cnn_model/group1-shard24of25.bin (deflated 7%)\n",
            "  adding: cnn_model/group1-shard21of25.bin (deflated 7%)\n",
            "  adding: cnn_model/group1-shard1of25.bin (deflated 8%)\n",
            "  adding: cnn_model/group1-shard20of25.bin (deflated 7%)\n",
            "  adding: cnn_model/group1-shard13of25.bin (deflated 7%)\n",
            "  adding: cnn_model/group1-shard22of25.bin (deflated 7%)\n",
            "  adding: cnn_model/group1-shard7of25.bin (deflated 7%)\n",
            "  adding: cnn_model/group1-shard9of25.bin (deflated 7%)\n",
            "  adding: cnn_model/model.json (deflated 89%)\n",
            "  adding: cnn_model/group1-shard2of25.bin (deflated 7%)\n",
            "  adding: cnn_model/group1-shard3of25.bin (deflated 7%)\n",
            "  adding: cnn_model/group1-shard8of25.bin (deflated 7%)\n",
            "  adding: cnn_model/group1-shard19of25.bin (deflated 7%)\n",
            "  adding: cnn_model/group1-shard5of25.bin (deflated 7%)\n",
            "  adding: cnn_model/group1-shard11of25.bin (deflated 7%)\n",
            "  adding: cnn_model/group1-shard18of25.bin (deflated 7%)\n",
            "  adding: cnn_model/group1-shard6of25.bin (deflated 7%)\n",
            "  adding: cnn_model/group1-shard25of25.bin (deflated 7%)\n",
            "  adding: cnn_model/group1-shard4of25.bin (deflated 7%)\n",
            "  adding: cnn_model/group1-shard16of25.bin (deflated 7%)\n",
            "  adding: cnn_model/group1-shard10of25.bin (deflated 7%)\n",
            "  adding: cnn_model/group1-shard14of25.bin (deflated 7%)\n",
            "  adding: cnn_model/group1-shard17of25.bin (deflated 7%)\n"
          ]
        }
      ]
    },
    {
      "cell_type": "markdown",
      "metadata": {
        "id": "on_CQSbjPSZJ"
      },
      "source": [
        "After the line of code above finishes executing, click on the folder icon on the left, click the three dots to the left of ```cnn_model.zip```, and download it to your computer. Downloading might take a while! If you choose to deploy your model on the web, you'll be uploading this file to colab notebook 2b so that you can deploy our first CNN model!"
      ]
    }
  ]
}